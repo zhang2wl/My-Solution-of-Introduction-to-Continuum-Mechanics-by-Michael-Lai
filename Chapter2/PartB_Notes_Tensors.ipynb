{
 "cells": [
  {
   "attachments": {},
   "cell_type": "markdown",
   "metadata": {},
   "source": [
    "# Chapter 2 Part B: Tensors\n",
    "\n",
    "## Definition of Tensor\n",
    "\n",
    "Let $\\mathbf{T}$ be a transformation that transforms any vector into another vector. If $\\mathbf{T}$ transforms $\\mathbf{a}$ to $\\mathbf{b}$, and transforms $\\mathbf{c}$ to $\\mathbf{d}$, we write $\\mathbf{T}\\mathbf{a}=\\mathbf{b}$ and $\\mathbf{T}\\mathbf{c}=\\mathbf{d}$. If $\\mathbf{T}$ has the following properties:\n",
    "\\begin{equation}\n",
    "   \\mathbf{T}(\\mathbf{a}+\\mathbf{b}) = \\mathbf{T}\\mathbf{a} + \\mathbf{T}\\mathbf{b}\n",
    "\\end{equation}\n",
    "\n",
    "\\begin{equation}\n",
    "   \\mathbf{T}(α\\mathbf{a}) = α\\mathbf{T}\\mathbf{a}\n",
    "\\end{equation}\n",
    "\n",
    "where $\\mathbf{a}$ and $\\mathbf{b}$ are arbitrary vectors and $\\alpha$ is a scalar, then we say $\\mathbf{T}$ is a _linear transformation_, or a _second-order tensor_, or simply _tensor_.\n",
    "\n",
    "If two tensors transform an arbitrary vector identically, then these two tensors are the same. "
   ]
  },
  {
   "attachments": {},
   "cell_type": "markdown",
   "metadata": {},
   "source": [
    "## Components of a Tensor\n",
    "\n",
    "The components of a tensor depends on the base vector used to describe the components. \n",
    "\n",
    "Let $\\mathbf{e}_1, \\mathbf{e}_2, \\mathbf{e}_3$ be base vectors of a coordinate system, and tensor $\\mathbf{T}$ transforms them into $\\mathbf{T}\\mathbf{e}_1, \\mathbf{T}\\mathbf{e}_2, \\mathbf{T}\\mathbf{e}_3$, each of them being a vector can be written as:\n",
    "\n",
    "\\begin{equation}\n",
    "   \\mathbf{T} \\mathbf{e}_i = T_{ji} \\mathbf{e}_j\n",
    "\\end{equation}\n",
    "\n",
    "The components $T_{ji}$ are defined as the components of tensor $\\mathbf{T}$. They can be put in a matrix as follows:\n",
    "\n",
    "\\begin{equation}\n",
    "   \\begin{bmatrix}\n",
    "      T_{11} & T_{12} & T_{13} \\\\\n",
    "      T_{21} & T_{22} & T_{23} \\\\\n",
    "      T_{31} & T_{32} & T_{33} \\\\\n",
    "   \\end{bmatrix}\n",
    "\\end{equation}\n",
    "\n",
    "This matrix is called _matrix of tensor_ $\\mathbf{T}$ with respect to the set of bases $\\mathbf{e}_i$.\n",
    "\n",
    "Multiply both sides of equation $\\mathbf{T} \\mathbf{e}_i = T_{ji} \\mathbf{e}_j$ by $\\mathbf{e}_m$, we get\n",
    "\n",
    "\\begin{equation}\n",
    "   \\mathbf{e}_m \\mathbf{T} \\mathbf{e}_i = \\mathbf{e}_m T_{ji} \\mathbf{e}_j = δ_{mj} T_{ji} = T_{mi}\n",
    "\\end{equation}\n",
    "\n",
    "Each of the component of $\\mathbf{T}$ can be expressed as:\n",
    "\\begin{equation}\n",
    "   T_{ij} = \\mathbf{e}_i \\cdot \\mathbf{T} \\mathbf{e}_j\n",
    "\\end{equation}"
   ]
  },
  {
   "attachments": {},
   "cell_type": "markdown",
   "metadata": {},
   "source": [
    "## Components of a Transformed Vector\n",
    "Given vector $\\mathbf{b}$ is transformed from $\\mathbf{a}$ by $\\mathbf{T}$, namely, $\\mathbf{b}=\\mathbf{T}\\mathbf{a}$, the components of $\\mathbf{b}$ can be expressed as:\n",
    "\n",
    "\\begin{equation}\n",
    "   b_{i} = T_{ij}a_j\n",
    "\\end{equation}\n",
    "\n",
    "This is the same form as the matrix equation $[\\mathbf{b}]=[\\mathbf{T}][\\mathbf{a}]$. To show that, we have\n",
    "\n",
    "\\begin{equation}\n",
    "   \\begin{aligned}\n",
    "      \\mathbf{b} &= b_{i} \\mathbf{e}_i \\\\ \n",
    "               & = \\mathbf{T} \\mathbf{a} \\\\\n",
    "               & = \\mathbf{T} (a_{j} \\mathbf{e}_j) \n",
    "   \\end{aligned}\n",
    "\\end{equation}\n",
    "\n",
    "\\begin{equation}\n",
    "\n",
    "      b_{i} = \\mathbf{e}_i \\mathbf{b} =  \\mathbf{e}_i \\mathbf{T} (a_{j} \\mathbf{e}_j) = a_{j} (\\mathbf{e}_i T \\mathbf{e}_j) = T_{ij} a_j\n",
    "\n",
    "\\end{equation}\n"
   ]
  },
  {
   "attachments": {},
   "cell_type": "markdown",
   "metadata": {},
   "source": [
    "## Sum of Tensors\n",
    "Sum of tensors are consistent with the matrix form $W_{ij} = T_{ij} + S_{ij}$. Proof:\n",
    "\n",
    "The components of the sum is: $W_{ij} = \\mathbf{e}_i \\mathbf{(T+S)} \\mathbf{e}_j = T_{ij} + S_{ij}$\n"
   ]
  },
  {
   "attachments": {},
   "cell_type": "markdown",
   "metadata": {},
   "source": [
    "## Product of Tensors\n",
    "Using the definition of tensor, we can derive the product of a tensor:\n",
    "\n",
    "$\\mathbf{W}=\\mathbf{T}\\mathbf{S}$ →\n",
    "$W_{ij} = \\mathbf{e}_i (\\mathbf{TS}) \\mathbf{e}_j\n",
    "        = \\mathbf{e}_i \\mathbf{T} (\\mathbf{S}\\mathbf{e}_j)\n",
    "        = \\mathbf{e}_i \\mathbf{T} S_{mj} \\mathbf{e}_m\n",
    "        = T_{in}\\mathbf{e}_n S_{mj} \\mathbf{e}_m\n",
    "        = T_{in} S_{mj} δ_{mn}\n",
    "        = T_{im} S_{mj}$\n",
    "\n",
    "Similarly, $\\mathbf{W}=\\mathbf{S}\\mathbf{T}$ → $W_{ij} = S_{im} T_{mj}$\n",
    "\n",
    "It is clear that $\\mathbf{S}\\mathbf{T} ≠ \\mathbf{T}\\mathbf{S}$. That is, in general, tensor product is not commutative. But with the tensor nature, it can be easily seen that $\\mathbf{S}\\mathbf{T}\\mathbf{a}=\\mathbf{S}(\\mathbf{T}\\mathbf{a})$. Thus, tensor product is associative. And it is natural to define $\\mathbf{T}\\mathbf{T}=\\mathbf{T}^2$\n",
    "\n",
    "\n",
    "\n"
   ]
  },
  {
   "attachments": {},
   "cell_type": "markdown",
   "metadata": {},
   "source": [
    "## Transpose of a tensor\n",
    "\n",
    "The transpose of a tensor $\\mathbf{T}$, by definition, satisfies $\\mathbf{a}\\mathbf{T}\\mathbf{b} = \\mathbf{b} \\mathbf{T}^T \\mathbf{a}$. It can be easily seen that $T_{ij} = T^T_{ji}$ as $\\mathbf{e}_i \\mathbf{T} \\mathbf{e}_j = \\mathbf{e}_j \\mathbf{T}^T \\mathbf{e}_i$. \n",
    "\n",
    "It can also be proved that $\\mathbf{T}^T = \\mathbf{T}$ as $\\mathbf{a}\\mathbf{T}^T\\mathbf{b} = \\mathbf{b} (\\mathbf{T}^T)^T \\mathbf{a}$\n",
    "\n",
    "It can also be easily established that $(\\mathbf{T}\\mathbf{S})^T = \\mathbf{S}\\mathbf{T}$ as $\\mathbf{T}\\mathbf{S})^T = W_{ij}^T = W_{ji} = \\mathbf{S}\\mathbf{T}$"
   ]
  },
  {
   "attachments": {},
   "cell_type": "markdown",
   "metadata": {},
   "source": [
    "## Dyadic product of vectors\n",
    "\n",
    "The dyadic product of vectors $\\mathbf{a}$ and $\\mathbf{b}$, denoted by $\\mathbf{a}\\mathbf{b}$ or $\\mathbf{a}⊗\\mathbf{b}$, is defined to be the transformation that transforms any vector $\\mathbf{c}$ according to the rule:\n",
    "\n",
    "$\\mathbf{a}⊗\\mathbf{b}\\mathbf{c} = \\mathbf{a}(\\mathbf{b}⋅\\mathbf{c})$\n",
    "\n",
    "Now, for any vectors $\\mathbf{c}$ and $\\mathbf{d}$, and any scalars $α$ and $β$, we have\n",
    "\n",
    "\\begin{aligned}\n",
    "(\\mathbf{a}⊗\\mathbf{b})(α\\mathbf{c} + β\\mathbf{d}) &= \\mathbf{a}(\\mathbf{b}⋅(α\\mathbf{c}+β\\mathbf{d})) \\\\\n",
    "&= \\mathbf{a}(\\mathbf{b}⋅α\\mathbf{c}+\\mathbf{b}⋅β\\mathbf{d})) \\\\\n",
    "&= α\\mathbf{a}(\\mathbf{b}⋅\\mathbf{c})+β\\mathbf{a}(\\mathbf{b}⋅\\mathbf{d}) \\\\\n",
    "&= α(\\mathbf{a}⊗\\mathbf{b})\\mathbf{c} + β(\\mathbf{a}⊗\\mathbf{b})\\mathbf{d}\n",
    "\\end{aligned}\n",
    "\n",
    "Thus the dyadic product $\\mathbf{a}⊗\\mathbf{b}$ is a linear transformation.\n",
    "\n",
    "Let $\\mathbf{W} = \\mathbf{a}⊗\\mathbf{b}$, then the components of $\\mathbf{W}$ are:\n",
    "$W_{ij} = \\mathbf{e}_i ⋅ \\mathbf{W} \\mathbf{e}_j = \\mathbf{e}_i ⋅ \\mathbf{a}⊗\\mathbf{b} \\mathbf{e}_j\n",
    "= \\mathbf{e}_i ⋅ (\\mathbf{a}⊗\\mathbf{b} \\mathbf{e}_j)\n",
    "= \\mathbf{e}_i ⋅ (\\mathbf{a} (\\mathbf{b} \\mathbf{e}_j))\n",
    "= \\mathbf{e}_i ⋅ (\\mathbf{a} b_j) = a_i b_j $\n",
    "\n",
    "It is clear that any tensor $\\mathbf{T}$ can be expressed as $\\mathbf{T} = T_{ij}\\mathbf{e}_i\\mathbf{e}_j$"
   ]
  },
  {
   "attachments": {},
   "cell_type": "markdown",
   "metadata": {},
   "source": [
    "## Trace of a Tensor\n",
    "\n",
    "The trace of a tensor is a scalar the obeys the following rules: For any tensor $\\mathbf{T}$ and $\\mathbf{S}$ and any vector $\\mathbf{a}$ and $\\mathbf{b}$\n",
    "\n",
    "\\begin{aligned}\n",
    "   tr(\\mathbf{T}+\\mathbf{S}) & = tr\\mathbf{T} + tr\\mathbf{S} \\\\\n",
    "   tr(α\\mathbf{T}) & = αtr\\mathbf{T} \\\\\n",
    "   tr(\\mathbf{a}⊗\\mathbf{b}) &= \\mathbf{a} ⋅ \\mathbf{b}\n",
    "\\end{aligned}\n",
    "\n",
    "It can be easily proved that $tr\\mathbf{T}\\mathbf{S} = tr(\\mathbf{S}\\mathbf{T})$"
   ]
  },
  {
   "attachments": {},
   "cell_type": "markdown",
   "metadata": {},
   "source": []
  }
 ],
 "metadata": {
  "kernelspec": {
   "display_name": "Python 3",
   "language": "python",
   "name": "python3"
  },
  "language_info": {
   "codemirror_mode": {
    "name": "ipython",
    "version": 3
   },
   "file_extension": ".py",
   "mimetype": "text/x-python",
   "name": "python",
   "nbconvert_exporter": "python",
   "pygments_lexer": "ipython3",
   "version": "3.10.11"
  },
  "orig_nbformat": 4
 },
 "nbformat": 4,
 "nbformat_minor": 2
}
