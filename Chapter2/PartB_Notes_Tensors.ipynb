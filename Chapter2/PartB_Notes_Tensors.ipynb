{
 "cells": [
  {
   "attachments": {},
   "cell_type": "markdown",
   "metadata": {},
   "source": [
    "# Chapter 2 Part B: Tensors\n",
    "\n",
    "## Definition of Tensor\n",
    "\n",
    "Let $\\mathbf{T}$ be a transformation that transforms any vector into another vector. If $\\mathbf{T}$ transforms $\\mathbf{a}$ to $\\mathbf{b}$, and transforms $\\mathbf{c}$ to $\\mathbf{d}$, we write $\\mathbf{T}\\mathbf{a}=\\mathbf{b}$ and $\\mathbf{T}\\mathbf{c}=\\mathbf{d}$. If $\\mathbf{T}$ has the following properties:\n",
    "\\begin{equation}\n",
    "   \\bold{T}(\\bold{a}+\\bold{b}) = \\bold{T}\\bold{a} + \\bold{T}\\bold{b}\n",
    "\\end{equation}\n",
    "\n",
    "\\begin{equation}\n",
    "   \\bold{T}(α\\bold{a}) = α\\bold{T}\\bold{a}\n",
    "\\end{equation}\n",
    "\n",
    "where $\\mathbf{a}$ and $\\mathbf{b}$ are arbitrary vectors and $\\alpha$ is a scalar, then we say $\\mathbf{T}$ is a _linear transformation_, or a _second-order tensor_, or simply _tensor_.\n",
    "\n",
    "If two tensors transform an arbitrary vector identically, then these two tensors are the same. "
   ]
  },
  {
   "attachments": {},
   "cell_type": "markdown",
   "metadata": {},
   "source": [
    "## Components of a Tensor\n",
    "\n",
    "The components of a tensor depends on the base vector used to describe the components. \n",
    "\n",
    "Let $\\mathbf{e}_1, \\mathbf{e}_2, \\mathbf{e}_3$ be base vectors of a coordinate system, and tensor $\\mathbf{T}$ transforms them into $\\mathbf{T}\\mathbf{e}_1, \\mathbf{T}\\mathbf{e}_2, \\mathbf{T}\\mathbf{e}_3$, each of them being a vector can be written as:\n",
    "\n",
    "\\begin{equation}\n",
    "   \\mathbf{T} \\mathbf{e}_i = T_{ji} \\mathbf{e}_j\n",
    "\\end{equation}\n",
    "\n",
    "The components $T_{ji}$ are defined as the components of tensor $\\mathbf{T}$. They can be put in a matrix as follows:\n",
    "\n",
    "\\begin{equation}\n",
    "   \\begin{bmatrix}\n",
    "      T_{11} & T_{12} & T_{13} \\\\\n",
    "      T_{21} & T_{22} & T_{23} \\\\\n",
    "      T_{31} & T_{32} & T_{33} \\\\\n",
    "   \\end{bmatrix}\n",
    "\\end{equation}\n",
    "\n",
    "This matrix is called _matrix of tensor_ $\\mathbf{T}$ with respect to the set of bases $\\mathbf{e}_i$"
   ]
  },
  {
   "attachments": {},
   "cell_type": "markdown",
   "metadata": {},
   "source": []
  }
 ],
 "metadata": {
  "kernelspec": {
   "display_name": "Python 3",
   "language": "python",
   "name": "python3"
  },
  "language_info": {
   "codemirror_mode": {
    "name": "ipython",
    "version": 3
   },
   "file_extension": ".py",
   "mimetype": "text/x-python",
   "name": "python",
   "nbconvert_exporter": "python",
   "pygments_lexer": "ipython3",
   "version": "3.10.11"
  },
  "orig_nbformat": 4
 },
 "nbformat": 4,
 "nbformat_minor": 2
}
