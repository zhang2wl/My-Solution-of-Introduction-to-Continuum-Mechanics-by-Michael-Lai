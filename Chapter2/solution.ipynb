{
 "cells": [
  {
   "cell_type": "markdown",
   "id": "5c9cb6d7-5953-49cf-8743-2b20a316d342",
   "metadata": {
    "tags": []
   },
   "source": [
    "# Chapter 2 Problem Solutions\n",
    "This notebook contains solutions to solutions in Chapter 2 of \"Introduction to Continuum Mechanics\" by Michael Lai"
   ]
  },
  {
   "attachments": {},
   "cell_type": "markdown",
   "id": "f3d273fe-dbfd-44e0-b4b6-f5d931ed0e04",
   "metadata": {},
   "source": [
    "---\n",
    "#### Problem 2.1\n",
    "Given $\\left[ S_{ij}\\right]=\\begin{bmatrix}\n",
    "                1 & 0 & 2 \\\\\n",
    "                0 & 1 & 2 \\\\\n",
    "                3 & 0 & 3\n",
    "            \\end{bmatrix}$ and \n",
    "            $\\left[ a_{i}\\right] = \\begin{bmatrix}\n",
    "                1 \\\\\n",
    "                2 \\\\\n",
    "                3\n",
    "            \\end{bmatrix}$  \n",
    "            \n",
    "Evaluate: (a) $S_{ii}$, (b) $S_{ij}S_{ij}$, (c) $S_{ji}S_{ji}$,\n",
    "    (d) $S_{jk}S_{kj}$, (e) $a_{m}a_{m}$, (f) $S_{mn}a_{m}a_{n}$, and \n",
    "    (g) $S_{nm}a_{m}a_{n}$"
   ]
  },
  {
   "cell_type": "code",
   "execution_count": 28,
   "id": "a7c2f56a-d3b0-411e-9126-42d891296549",
   "metadata": {},
   "outputs": [
    {
     "name": "stdout",
     "output_type": "stream",
     "text": [
      "(a) S_ii = 12\n",
      "(b) S_ij S_ij = 28\n",
      "(c) S_ji S_ji = 28\n",
      "(d) S_jk S_kj = 2\n",
      "(e) a_m a_m = 14\n",
      "(f) S_mn a_m a_n = 5\n",
      "(g) S_mn a_m a_n = 5\n"
     ]
    }
   ],
   "source": [
    "# Solution\n",
    "import numpy as np\n",
    "# create the S and a in matrix form\n",
    "S = np.array([[1, 0, 2], [0, 1, 2], [3, 0, 3]])\n",
    "a = np.array([[1],[2],[3]])\n",
    "\n",
    "def Solution(S, a):\n",
    "   # (a)\n",
    "   ans_a = sum(sum(row) for row in S)\n",
    "   print(\"(a) S_ii = {:d}\".format(ans_a))\n",
    "\n",
    "   #(b)\n",
    "   ans_b = sum(sum(x**2 for x in row) for row in S)\n",
    "   print(\"(b) S_ij S_ij = {:d}\".format(ans_b))\n",
    "\n",
    "   #(c)\n",
    "   ans_c = sum(sum(x**2 for x in row) for row in S)\n",
    "   print(\"(c) S_ji S_ji = {:d}\".format(ans_c))\n",
    "\n",
    "   #(d)\n",
    "   ans_d = 0\n",
    "   for j in range(0,2):\n",
    "      for k in range(0,2):\n",
    "         ans_d += S[j][k]*S[k][j]\n",
    "   print(\"(d) S_jk S_kj = {:d}\".format(ans_d))\n",
    "\n",
    "   #(e)\n",
    "   ans_e = sum(x[0]**2 for x in a)\n",
    "   print(\"(e) a_m a_m = {:d}\".format(ans_e))\n",
    "\n",
    "   #(f)\n",
    "   ans_f = 0\n",
    "   for m in range(2):\n",
    "      for n in range(2):\n",
    "         ans_f += S[m][n]*a[m][0]*a[n][0]\n",
    "   print(\"(f) S_mn a_m a_n = {:d}\".format(ans_f))\n",
    "\n",
    "   #(g)\n",
    "   ans_g = 0\n",
    "   for m in range(2):\n",
    "      for n in range(2):\n",
    "         ans_g += S[n][m]*a[m][0]*a[n][0]\n",
    "   print(\"(g) S_mn a_m a_n = {:d}\".format(ans_g))\n",
    "\n",
    "Solution(S,a)"
   ]
  },
  {
   "attachments": {},
   "cell_type": "markdown",
   "id": "1c79014b",
   "metadata": {},
   "source": [
    "---\n",
    "#### Problem 2.2\n",
    "Determine which of these equations has an identical meaning with $a_i=Q_{ij}a_j^{'}$ <br>\n",
    "(a) $a_p=Q_{pm}a_m^{'}$, (b) $a_p=Q_{qp}a_q^{'}$, (c) $a_m=a_n^{'}Q_{mn}$\n"
   ]
  },
  {
   "attachments": {},
   "cell_type": "markdown",
   "id": "d9c890f5",
   "metadata": {},
   "source": [
    "**Solution**\n",
    "(a) and (c). The index of $a$ should be the same as the first index of $Q$, and the second index of $Q$ should be the same as the index of $a^{'}$"
   ]
  },
  {
   "attachments": {},
   "cell_type": "markdown",
   "id": "6b575c1e",
   "metadata": {},
   "source": [
    "---\n",
    "#### Problem 2.3\n",
    "Given the following matrices\n",
    "  \n",
    "$\\left[ B_{ij}\\right]=\\begin{bmatrix}\n",
    "                2 & 3 & 0 \\\\\n",
    "                0 & 5 & 1 \\\\\n",
    "                0 & 2 & 1\n",
    "            \\end{bmatrix}$ and \n",
    "            $\\left[ a_{i}\\right] = \\begin{bmatrix}\n",
    "                1 \\\\\n",
    "                0 \\\\\n",
    "                2\n",
    "            \\end{bmatrix}$\n",
    "\n",
    "demonstrate the equivalence of the subscripted equations and the corresponding matrix equations in the following two problems: <br>\n",
    "\n",
    "(a) $b_i=B_{ij}a_j$ and $\\left[ b \\right]=\\left[ B \\right]\\left[ a \\right]$  \n",
    "(b) $s=B_{ij}a_ia_j$ and $s=[a]^{T}[B][a]$"
   ]
  },
  {
   "attachments": {},
   "cell_type": "markdown",
   "id": "31bd3bec",
   "metadata": {},
   "source": [
    "***Solution***\n",
    "(a) By definition, the matrix multiplication is: <br>\n",
    "- $\\left[ C \\right]=\\left[ A \\right]\\left[ B \\right]$ equals $C_{ij}=A_{ik}B_{kj}$\n",
    "- $\\left[ b \\right]=\\left[ B \\right]\\left[ a \\right]$ equals $b_i=B_{ij}a_j$  \n",
    "\n",
    "Using tensor notation may simplify the coding process in my opinion:\n"
   ]
  },
  {
   "cell_type": "code",
   "execution_count": 35,
   "id": "b11c8495",
   "metadata": {},
   "outputs": [
    {
     "name": "stdout",
     "output_type": "stream",
     "text": [
      "b = \n",
      "   2.0\n",
      "   0.0\n",
      "   0.0\n"
     ]
    }
   ],
   "source": [
    "# Solution\n",
    "import numpy as np\n",
    "# create the S and a in matrix form\n",
    "B = np.array([[2, 3, 0], [0, 5, 1], [0, 2, 1]])\n",
    "a = np.array([[1],[0],[2]])\n",
    "\n",
    "def tensor_approach(B, a):\n",
    "   # This is how I would calculate b using tensor notation. \n",
    "   # *** It is the same as matrix notation if I do the coding ***\n",
    "   # I use index notation instead of the pythonic way for the loop\n",
    "   b = np.zeros((3,1))\n",
    "   for i in range(2):\n",
    "      for j in range(2):\n",
    "         b[i][0] += B[i][j]*a[j][0]\n",
    "   return b\n",
    "\n",
    "# Function to print a matrix with formatted columns\n",
    "def print_matrix(matrix):\n",
    "    print('b = ')\n",
    "    for row in matrix:\n",
    "        formatted_row = [f\"{element:>6}\" for element in row]  # Adjust the number '6' to change the column width\n",
    "        print(''.join(formatted_row))\n",
    "\n",
    "print_matrix(Solution(B,a))"
   ]
  },
  {
   "attachments": {},
   "cell_type": "markdown",
   "id": "12d312a3",
   "metadata": {},
   "source": [
    "<style>\n",
    "p {\n",
    "    line-height: 1.25;\n",
    "}\n",
    "</style>\n",
    "***Solution*** (b) For the matrix notation $s=[a]^{T}[B][a]$, we can first expand the matrices: <br>\n",
    "\n",
    "$$\n",
    "s = \\left[1 \\quad 0 \\quad 2 \\right]\n",
    "    \\begin{bmatrix}\n",
    "        2 & 3 & 0 \\\\\n",
    "        0 & 5 & 1 \\\\\n",
    "        0 & 2 & 1\n",
    "    \\end{bmatrix}\n",
    "    \\begin{bmatrix}\n",
    "        1 \\\\\n",
    "        0 \\\\\n",
    "        2\n",
    "    \\end{bmatrix}\n",
    "$$\n",
    "\n",
    "This is what I would code for the matrix multiplication:"
   ]
  },
  {
   "cell_type": "code",
   "execution_count": 37,
   "id": "d5b56095",
   "metadata": {},
   "outputs": [
    {
     "name": "stdout",
     "output_type": "stream",
     "text": [
      "s =  2.0\n"
     ]
    }
   ],
   "source": [
    "# Solution\n",
    "import numpy as np\n",
    "# create the S and a in matrix form\n",
    "B = np.array([[2, 3, 0], [0, 5, 1], [0, 2, 1]])\n",
    "a = np.array([[1],[0],[2]])\n",
    "\n",
    "def matrix_mult(B,a):\n",
    "   s = 0\n",
    "   # first calculate [a]T[B]\n",
    "   temp = np.zeros((1,3))\n",
    "   for j in range(2):\n",
    "      for k in range(2):\n",
    "         temp[0][j] += a[k][0]*B[k][j]\n",
    "\n",
    "   # then calculate s=[temp][a]\n",
    "   for i in range(2):\n",
    "      s += temp[0][i]*a[i][0]\n",
    "\n",
    "   return s\n",
    "\n",
    "print('s = ', matrix_mult(B,a))"
   ]
  },
  {
   "attachments": {},
   "cell_type": "markdown",
   "id": "26c19295",
   "metadata": {},
   "source": [
    "Using tensor notation can simplify the coding process because we already combine the terms in our derivation, both approach give us the same result."
   ]
  },
  {
   "cell_type": "code",
   "execution_count": 38,
   "id": "0f916b5e",
   "metadata": {},
   "outputs": [
    {
     "name": "stdout",
     "output_type": "stream",
     "text": [
      "s =  2.0\n"
     ]
    }
   ],
   "source": [
    "def tensor_mult(B,a):\n",
    "   s = 0\n",
    "   # directly calculate [a]T[B][a]\n",
    "   for i in range(2):\n",
    "      for j in range(2):\n",
    "         s += a[i][0]*a[j][0]*B[i][j]\n",
    "\n",
    "   return s\n",
    "\n",
    "print('s = ', matrix_mult(B,a))"
   ]
  },
  {
   "attachments": {},
   "cell_type": "markdown",
   "id": "ae6e0178",
   "metadata": {},
   "source": [
    "---\n",
    "#### Problem 2.4\n",
    "Write in indicial notation the matrix equation <br>\n",
    "(a) $[A]=[B][C]$, (b) $[D]=[B]^T[C]$ and (c) $[E]=[B]^T[C][F]$.\n",
    "\n",
    "***Solution*** <br>\n",
    "(a) $a_{ij} = B_{ik}C_{kj}$ <br>\n",
    "(b) $D_{ij} = B_{ki}C_{kj}$ <br>\n",
    "(c) $E_{ij} = B_{ki}C_{kj}F_{jl}$\n"
   ]
  },
  {
   "attachments": {},
   "cell_type": "markdown",
   "id": "a2677a3f",
   "metadata": {},
   "source": [
    "---\n",
    "#### Problem 2.5\n",
    "Write in indicial notation the equation <br>\n",
    "(a)$s=A_1^2+A_2^2 + A_3^2$ and \n",
    "(b) $ \\dfrac{\\delta^2Φ}{\\delta x_1^2} + \\dfrac{\\delta^2Φ}{\\delta x_2^2} + \\dfrac{\\delta^2Φ}{\\delta x_3^2} = 0$\n",
    "\n",
    "***Solution*** <br>\n",
    "(a) $ s = A_iA_i $ <br>\n",
    "(b) $ \\dfrac{\\delta^2Φ}{\\delta x_i \\delta x_i} = 0 $\n"
   ]
  },
  {
   "attachments": {},
   "cell_type": "markdown",
   "id": "786d29b4",
   "metadata": {},
   "source": [
    "---\n",
    "#### Problem 2.6\n",
    "Given that $S_{ij}=a_ia_j$ and $S_{ij}^{'}=a_i^{'}a_j{'}$, \n",
    "where $ a_i^{'} = Q_{mi}a_m $ and $ a_j^{'} = Q_{nj}a_n $ and\n",
    "$ Q_{ik}Q_{jk} = \\Delta_{ij} $\n",
    "show that $S_{ii}^{'} = S_{ii} $"
   ]
  },
  {
   "cell_type": "markdown",
   "id": "e6379896",
   "metadata": {},
   "source": []
  }
 ],
 "metadata": {
  "kernelspec": {
   "display_name": "Python 3 (ipykernel)",
   "language": "python",
   "name": "python3"
  },
  "language_info": {
   "codemirror_mode": {
    "name": "ipython",
    "version": 3
   },
   "file_extension": ".py",
   "mimetype": "text/x-python",
   "name": "python",
   "nbconvert_exporter": "python",
   "pygments_lexer": "ipython3",
   "version": "3.11.1"
  }
 },
 "nbformat": 4,
 "nbformat_minor": 5
}
