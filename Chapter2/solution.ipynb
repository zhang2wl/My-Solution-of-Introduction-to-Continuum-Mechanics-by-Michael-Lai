{
 "cells": [
  {
   "cell_type": "markdown",
   "id": "5c9cb6d7-5953-49cf-8743-2b20a316d342",
   "metadata": {
    "tags": []
   },
   "source": [
    "# Chapter 2 Problem Solutions\n",
    "This notebook contains solutions to solutions in Chapter 2 of \"Introduction to Continuum Mechanics\" by Michael Lai"
   ]
  },
  {
   "attachments": {},
   "cell_type": "markdown",
   "id": "f3d273fe-dbfd-44e0-b4b6-f5d931ed0e04",
   "metadata": {},
   "source": [
    "### Problem 2.1\n",
    "Given $\\left[ S_{ij}\\right]=\\begin{bmatrix}\n",
    "                1 & 0 & 2 \\\\\n",
    "                0 & 1 & 2 \\\\\n",
    "                3 & 0 & 3\n",
    "            \\end{bmatrix}$ and \n",
    "            $\\left[ a_{i}\\right] = \\begin{bmatrix}\n",
    "                1 \\\\\n",
    "                2 \\\\\n",
    "                3\n",
    "            \\end{bmatrix}$  \n",
    "            \n",
    "Evaluate: (a) $S_{ii}$, (b) $S_{ij}S_{ij}$, (c) $S_{ji}S_{ji}$,\n",
    "    (d) $S_{jk}S_{kj}$, (e) $a_{m}a_{m}$, (f) $S_{mn}a_{m}a_{n}$, and \n",
    "    (g) $S_{nm}a_{m}a_{n}$"
   ]
  },
  {
   "cell_type": "code",
   "execution_count": 27,
   "id": "a7c2f56a-d3b0-411e-9126-42d891296549",
   "metadata": {},
   "outputs": [
    {
     "name": "stdout",
     "output_type": "stream",
     "text": [
      "(a) S_ii = 12\n",
      "(b) S_ij S_ij = 28\n",
      "(c) S_ji S_ji = 28\n",
      "(d) S_jk S_kj = 2\n",
      "(e) a_m a_m = 14\n",
      "(f) S_mn a_m a_n = 5\n",
      "(g) S_mn a_m a_n = 5\n"
     ]
    }
   ],
   "source": [
    "# Solution\n",
    "import numpy as np\n",
    "# create the S and a in matrix form\n",
    "S = np.array([[1, 0, 2], [0, 1, 2], [3, 0, 3]])\n",
    "a = np.array([[1],[2],[3]])\n",
    "\n",
    "def Solution(S, a):\n",
    "   # (a)\n",
    "   ans_a = sum(sum(row) for row in S)\n",
    "   print(\"(a) S_ii = {:d}\".format(ans_a))\n",
    "\n",
    "   #(b)\n",
    "   ans_b = sum(sum(x**2 for x in row) for row in S)\n",
    "   print(\"(b) S_ij S_ij = {:d}\".format(ans_b))\n",
    "\n",
    "   #(c)\n",
    "   ans_c = sum(sum(x**2 for x in row) for row in S)\n",
    "   print(\"(c) S_ji S_ji = {:d}\".format(ans_c))\n",
    "\n",
    "   #(d)\n",
    "   ans_d = 0\n",
    "   for j in range(0,2):\n",
    "      for k in range(0,2):\n",
    "         ans_d += S[j][k]*S[k][j]\n",
    "   print(\"(d) S_jk S_kj = {:d}\".format(ans_d))\n",
    "\n",
    "   #(e)\n",
    "   ans_e = sum(x[0]**2 for x in a)\n",
    "   print(\"(e) a_m a_m = {:d}\".format(ans_e))\n",
    "\n",
    "   #(f)\n",
    "   ans_f = 0\n",
    "   for m in range(2):\n",
    "      for n in range(2):\n",
    "         ans_f += S[m][n]*a[m][0]*a[n][0]\n",
    "   print(\"(f) S_mn a_m a_n = {:d}\".format(ans_f))\n",
    "\n",
    "   #(g)\n",
    "   ans_g = 0\n",
    "   for m in range(2):\n",
    "      for n in range(2):\n",
    "         ans_g += S[n][m]*a[m][0]*a[n][0]\n",
    "   print(\"(g) S_mn a_m a_n = {:d}\".format(ans_g))\n",
    "\n",
    "\n",
    "\n",
    "Solution(S,a)"
   ]
  },
  {
   "cell_type": "code",
   "execution_count": null,
   "id": "1c79014b",
   "metadata": {},
   "outputs": [],
   "source": []
  }
 ],
 "metadata": {
  "kernelspec": {
   "display_name": "Python 3 (ipykernel)",
   "language": "python",
   "name": "python3"
  },
  "language_info": {
   "codemirror_mode": {
    "name": "ipython",
    "version": 3
   },
   "file_extension": ".py",
   "mimetype": "text/x-python",
   "name": "python",
   "nbconvert_exporter": "python",
   "pygments_lexer": "ipython3",
   "version": "3.11.1"
  }
 },
 "nbformat": 4,
 "nbformat_minor": 5
}
