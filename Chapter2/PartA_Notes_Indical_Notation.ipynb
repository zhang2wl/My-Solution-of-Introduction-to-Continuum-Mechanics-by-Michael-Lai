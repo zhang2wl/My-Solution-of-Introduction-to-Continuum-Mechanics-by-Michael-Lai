{
 "cells": [
  {
   "attachments": {},
   "cell_type": "markdown",
   "metadata": {},
   "source": [
    "# Chapter 2 Part A: Indicial Notation\n",
    "\n",
    "## Introduction\n",
    "\n",
    "This section covers basics about summation convention, dummy index, free index, Kronecker delta, and Permutation symbol\n",
    "\n",
    "## Basic Concepts"
   ]
  },
  {
   "attachments": {},
   "cell_type": "markdown",
   "metadata": {},
   "source": [
    "### Summation and dummy index\n",
    "\n",
    "Einstein's summation convention.\n",
    "\n",
    "<!-- equation with equal sign aligned btween multiple lines -->\n",
    "$$\n",
    "\\begin{equation}\n",
    "  \\begin{aligned}\n",
    "  s &= a_1x_1 + a_2x_2 + a_3x_3 \\\\\n",
    "    &= a_ix_i = a_jx_j = a_kx_k\n",
    "  \\end{aligned}\n",
    "\\end{equation}\n",
    "$$\n",
    "\n",
    "In Equation (1), $i, j, k$ are called dummy index because it does not matter which symbol we use. Summation convention can be used to express double sum, triple sum, and so on, for example:\n",
    "$$\n",
    "  \\begin{equation}\n",
    "    α = a_{ij}x_ix_j\n",
    "  \\end{equation}\n",
    "$$\n",
    "\n",
    "<div align=\"center\" style=\"border: 2px solid black; background-color: #F5F5F5; padding: 10px;\">\n",
    "Dummy index should not apprear more than twice in a term. The following is not allowed:\n",
    "\n",
    "$$\n",
    "s = x_i y_i z_i\n",
    "$$\n",
    "</div>"
   ]
  },
  {
   "attachments": {},
   "cell_type": "markdown",
   "metadata": {},
   "source": [
    "### Free index\n",
    "\n",
    "An index that only appears once in a term is called free index:\n",
    "$$\n",
    "\\begin{equation}\n",
    "x_i^m = a_{im}x_m\n",
    "\\end{equation}\n",
    "$$\n",
    "Unless otherwise stated, free index takes on the integral number 1, 2, and 3. Thus, Equation (3) is short hand for 3 equations:\n",
    "$$\n",
    "\\begin{equation}\n",
    "  \\begin{aligned}\n",
    "    x_1^m &= a_{1m}x_m \\\\\n",
    "    x_2^m &= a_{2m}x_m \\\\\n",
    "    x_3^m &= a_{3m}x_m\n",
    "  \\end{aligned}\n",
    "\\end{equation}\n",
    "$$\n",
    "If there are two free indices in an equation, then it should be the shorthand for 9 equations, for example:\n",
    "$$\n",
    "\\begin{equation}\n",
    "  T_{ij} = A_{im}A_{jm}\n",
    "\\end{equation}\n",
    "$$\n",
    "If there are three free indices in an equation, then it should be shorthand for 27 equations, and so on."
   ]
  },
  {
   "attachments": {},
   "cell_type": "markdown",
   "metadata": {},
   "source": [
    "### The Kronecker Delta\n",
    "\n",
    "The equation for Kronecker Delta is:\n",
    "$$\n",
    "\\begin{equation}\n",
    "  \\delta_{ij} = \\begin{cases}\n",
    "                  1, & \\text{if } i = j \\\\\n",
    "                  0, & \\text{otherwise}\n",
    "                \\end{cases}\n",
    "\\end{equation}\n",
    "$$"
   ]
  },
  {
   "attachments": {},
   "cell_type": "markdown",
   "metadata": {},
   "source": [
    "### The Permutation Symbol\n",
    "\n",
    "The permutation symbol is denoted by $ɛ_{ijk}$ and is defined by:\n",
    "$$\n",
    "\\begin{equation}\n",
    "  \\varepsilon_{ijk} = \\begin{cases}\n",
    "  +1 & \\text{if } (i,j,k) \\text{ is an even permutation of } (1,2,3) \\\\\n",
    "  -1 & \\text{if } (i,j,k) \\text{ is an odd permutation of } (1,2,3) \\\\\n",
    "  0 & \\text{otherwise}\n",
    "  \\end{cases}\n",
    "\\end{equation}\n",
    "$$"
   ]
  },
  {
   "attachments": {},
   "cell_type": "markdown",
   "metadata": {},
   "source": [
    "### Indicial Notation Manipulations\n",
    "\n",
    "1. **Substitution**\n",
    "Say we have $a_i = U_{im}b_{m}$ and $b_i = V_{im}c_m$, we can substitute $b_m$ and get $a_i = U_{im}V_{mn}c_n$. This equation have two sets of dummy indices thus there are two summations. This euqation has one free index thus it represents three equations. <br>\n",
    "2. **Multiplication**\n",
    "If $p=a_m b_m$ and $q = c_m d_m$, thus $pq = a_m b_m c_n d_n$. It is important that dummy index should not appear more than twice in a term. <br>\n",
    "3. **Factoring**\n",
    "$T_{ij} n_j - λ δ_{ij} n_j = 0$ can be factored as $(T_{ij} - λ δ_{ij}) n_j = 0$ <br>\n",
    "4. **Contraction**\n",
    "The operation of identifying two indices is called contraction. For example, $T_{ii}$ is the contraction of $T_{ij}$\n"
   ]
  },
  {
   "attachments": {},
   "cell_type": "markdown",
   "metadata": {},
   "source": [
    "## Conclusion\n",
    "\n",
    "Part A of Chapter 2 covers the most basic yet very important definitions for tensors. We have learned summation notation, dummy index, free index, Kronecker Delta, Permutation symbol, and some indicial notation manipulations. "
   ]
  },
  {
   "attachments": {},
   "cell_type": "markdown",
   "metadata": {},
   "source": []
  }
 ],
 "metadata": {
  "kernelspec": {
   "display_name": "Python 3",
   "language": "python",
   "name": "python3"
  },
  "language_info": {
   "codemirror_mode": {
    "name": "ipython",
    "version": 3
   },
   "file_extension": ".py",
   "mimetype": "text/x-python",
   "name": "python",
   "nbconvert_exporter": "python",
   "pygments_lexer": "ipython3",
   "version": "3.10.11"
  },
  "orig_nbformat": 4
 },
 "nbformat": 4,
 "nbformat_minor": 2
}
